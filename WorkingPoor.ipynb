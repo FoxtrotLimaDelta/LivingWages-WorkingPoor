{
 "cells": [
  {
   "cell_type": "code",
   "execution_count": 1,
   "metadata": {},
   "outputs": [],
   "source": [
    "#Dependencies\n",
    "\n",
    "import xlrd\n",
    "import pprint\n",
    "\n",
    "# Pandas\n",
    "import pandas as pd\n",
    "import numpy as np\n",
    "\n",
    "\n",
    "# SQL Alchemy\n",
    "from sqlalchemy import create_engine\n",
    "# Imports the methods needed to abstract classes into tables\n",
    "from sqlalchemy.ext.declarative import declarative_base\n",
    "# Allow us to declare column types\n",
    "from sqlalchemy import Column, Integer, String, Float\n"
   ]
  },
  {
   "cell_type": "code",
   "execution_count": 2,
   "metadata": {},
   "outputs": [],
   "source": [
    "# # Example Create a \"Metadata\" Layer That Abstracts our SQL Database\n",
    "# Base.metadata.create_all(engine)\n",
    "\n",
    "# # Use this to clear out the db\n",
    "# Base.metadata.drop_all(engine)\n",
    "\n",
    "# # Create a Session Object to Connect to DB\n",
    "# from sqlalchemy.orm import Session\n",
    "# session = Session(bind=engine)\n"
   ]
  },
  {
   "cell_type": "code",
   "execution_count": 3,
   "metadata": {},
   "outputs": [
    {
     "name": "stdout",
     "output_type": "stream",
     "text": [
      "['__class__', '__delattr__', '__dict__', '__dir__', '__doc__', '__eq__', '__format__', '__ge__', '__getattribute__', '__gt__', '__hash__', '__init__', '__init_subclass__', '__le__', '__lt__', '__module__', '__ne__', '__new__', '__reduce__', '__reduce_ex__', '__repr__', '__setattr__', '__sizeof__', '__str__', '__subclasshook__', '__weakref__', '_cell_attr_to_xfx', '_cell_types', '_cell_values', '_cell_xf_indexes', '_dimncols', '_dimnrows', '_first_full_rowx', '_ixfe', '_maxdatacolx', '_maxdatarowx', '_position', '_repr_these', '_xf_index_stats', '_xf_index_to_xl_type_map', 'automatic_grid_line_colour', 'bf', 'biff_version', 'book', 'bt', 'cached_normal_view_mag_factor', 'cached_page_break_preview_mag_factor', 'cell', 'cell_note_map', 'cell_type', 'cell_value', 'cell_xf_index', 'col', 'col_label_ranges', 'col_slice', 'col_types', 'col_values', 'colinfo_map', 'columns_from_right_to_left', 'computed_column_width', 'cooked_normal_view_mag_factor', 'cooked_page_break_preview_mag_factor', 'default_additional_space_above', 'default_additional_space_below', 'default_row_height', 'default_row_height_mismatch', 'default_row_hidden', 'defcolwidth', 'dump', 'fake_XF_from_BIFF20_cell_attr', 'first_visible_colx', 'first_visible_rowx', 'fixed_BIFF2_xfindex', 'formatting_info', 'gcw', 'get_rows', 'gridline_colour_index', 'gridline_colour_rgb', 'handle_feat11', 'handle_hlink', 'handle_msodrawingetc', 'handle_note', 'handle_obj', 'handle_quicktip', 'handle_txo', 'has_pane_record', 'horizontal_page_breaks', 'horz_split_first_visible', 'horz_split_pos', 'hyperlink_list', 'hyperlink_map', 'insert_new_BIFF20_xf', 'logfile', 'merged_cells', 'name', 'ncols', 'nrows', 'number', 'panes_are_frozen', 'put_cell', 'put_cell_ragged', 'put_cell_unragged', 'ragged_rows', 'read', 'remove_splits_if_pane_freeze_is_removed', 'req_fmt_info', 'rich_text_runlist_map', 'row', 'row_label_ranges', 'row_len', 'row_slice', 'row_types', 'row_values', 'rowinfo_map', 'scl_mag_factor', 'sheet_selected', 'sheet_visible', 'show_formulas', 'show_grid_lines', 'show_in_page_break_preview', 'show_outline_symbols', 'show_sheet_headers', 'show_zero_values', 'split_active_pane', 'standardwidth', 'string_record_contents', 'tidy_dimensions', 'update_cooked_mag_factors', 'utter_max_cols', 'utter_max_rows', 'verbosity', 'vert_split_first_visible', 'vert_split_pos', 'vertical_page_breaks', 'visibility']\n"
     ]
    }
   ],
   "source": [
    "#Read in data from unstructured Excel file\n",
    "book = xlrd.open_workbook('Resources/SNAP/FY19.xls')\n",
    "sheet = book.sheet_by_name('NERO')\n",
    "\n",
    "print (dir(sheet))"
   ]
  },
  {
   "cell_type": "code",
   "execution_count": 4,
   "metadata": {},
   "outputs": [
    {
     "name": "stdout",
     "output_type": "stream",
     "text": [
      "145\n"
     ]
    }
   ],
   "source": [
    "#Example Counts # of rows in your data\n",
    "print (sheet.nrows)"
   ]
  },
  {
   "cell_type": "code",
   "execution_count": 5,
   "metadata": {},
   "outputs": [
    {
     "name": "stdout",
     "output_type": "stream",
     "text": [
      "NERO\n",
      "MARO\n",
      "SERO\n",
      "MWRO\n",
      "SWRO\n",
      "MPRO\n",
      "WRO\n",
      "US Summary\n"
     ]
    }
   ],
   "source": [
    "# Example Shows the names of all of the sheets in the Excel Workbook\n",
    "\n",
    "for sheet in book.sheets():\n",
    "    print (sheet.name)"
   ]
  },
  {
   "cell_type": "code",
   "execution_count": 6,
   "metadata": {},
   "outputs": [],
   "source": [
    "#This is what we're trying to pull from the data and how we want it to look\n",
    "data_test = {\n",
    "        ('Connecticut', 'October 2018'): {\n",
    "            'household_participation': 1,\n",
    "            'individual_participation': 1,\n",
    "            'total_cost' : 1,\n",
    "            'cost_by_household' : 1,\n",
    "            'cost_by_individual': 1,\n",
    "        },\n",
    "        ('Connecticut', 'November 2018'): {\n",
    "            'household_participation': 1,\n",
    "            'individual_participation': 1,\n",
    "            'total_cost' : 1,\n",
    "            'cost_by_household' : 1,\n",
    "            'cost_by_individual': 1,\n",
    "            }\n",
    "        }"
   ]
  },
  {
   "cell_type": "code",
   "execution_count": 7,
   "metadata": {},
   "outputs": [
    {
     "data": {
      "text/html": [
       "<div>\n",
       "<style scoped>\n",
       "    .dataframe tbody tr th:only-of-type {\n",
       "        vertical-align: middle;\n",
       "    }\n",
       "\n",
       "    .dataframe tbody tr th {\n",
       "        vertical-align: top;\n",
       "    }\n",
       "\n",
       "    .dataframe thead th {\n",
       "        text-align: right;\n",
       "    }\n",
       "</style>\n",
       "<table border=\"1\" class=\"dataframe\">\n",
       "  <thead>\n",
       "    <tr style=\"text-align: right;\">\n",
       "      <th></th>\n",
       "      <th></th>\n",
       "      <th>household_participation</th>\n",
       "      <th>individual_participation</th>\n",
       "      <th>total_cost</th>\n",
       "      <th>cost_by_household</th>\n",
       "      <th>cost_by_individual</th>\n",
       "    </tr>\n",
       "  </thead>\n",
       "  <tbody>\n",
       "    <tr>\n",
       "      <th rowspan=\"2\" valign=\"top\">Connecticut</th>\n",
       "      <th>October 2018</th>\n",
       "      <td>1</td>\n",
       "      <td>1</td>\n",
       "      <td>1</td>\n",
       "      <td>1</td>\n",
       "      <td>1</td>\n",
       "    </tr>\n",
       "    <tr>\n",
       "      <th>November 2018</th>\n",
       "      <td>1</td>\n",
       "      <td>1</td>\n",
       "      <td>1</td>\n",
       "      <td>1</td>\n",
       "      <td>1</td>\n",
       "    </tr>\n",
       "  </tbody>\n",
       "</table>\n",
       "</div>"
      ],
      "text/plain": [
       "                           household_participation  individual_participation  \\\n",
       "Connecticut October 2018                         1                         1   \n",
       "            November 2018                        1                         1   \n",
       "\n",
       "                           total_cost  cost_by_household  cost_by_individual  \n",
       "Connecticut October 2018            1                  1                   1  \n",
       "            November 2018           1                  1                   1  "
      ]
     },
     "execution_count": 7,
     "metadata": {},
     "output_type": "execute_result"
    }
   ],
   "source": [
    "pd.DataFrame.from_dict(data_test, orient = 'index')"
   ]
  },
  {
   "cell_type": "code",
   "execution_count": 8,
   "metadata": {},
   "outputs": [
    {
     "name": "stdout",
     "output_type": "stream",
     "text": [
      "7 ['US Summary', '', '', '', '', '']\n",
      "8 ['Oct 2018', 19722719.0, 39575279.0, 4904519214.0, 248.6736, 123.9289]\n",
      "9 ['Nov 2018', 19537752.0, 39131093.0, 4798871042.0, 245.6204, 122.6358]\n",
      "10 ['Dec 2018', 19350569.0, 38655988.0, 4735685303.0, 244.7311, 122.5085]\n",
      "11 ['Jan 2019 /2', 20438289.0, 40627707.0, 8808799831.0, 430.995, 216.8175]\n",
      "12 ['Feb 2019 /2', 3695943.0, 7422273.0, 619365505.0, 167.5798, 83.4469]\n",
      "13 ['Mar 2019', 18942667.0, 37664927.0, 4466551286.0, 235.7932, 118.5865]\n",
      "14 ['Apr 2019', 18844455.0, 37422372.0, 4520914707.0, 239.9069, 120.8078]\n",
      "15 ['May 2019', 18833780.0, 37381135.0, 4543639171.0, 241.2495, 121.549]\n",
      "16 ['Jun 2019', 18973316.0, 37532817.0, 4552219037.0, 239.9274, 121.2864]\n",
      "17 ['Jul 2019', 19026938.0, 37602856.0, 4560929145.0, 239.709, 121.2921]\n",
      "18 ['Aug 2019', 19120797.0, 37777171.0, 4574276320.0, 239.2304, 121.0857]\n",
      "19 ['Sep 2019', 19081687.0, 37637717.0, 4536111652.0, 237.7207, 120.5204]\n",
      "20 ['Total', 17964076.0, 35702611.25, 55621882213.0, 258.023675, 129.82683333333333]\n",
      "21 ['', '', '', '', '', '']\n",
      "22 ['Footnotes:', '', '', '', '', '']\n",
      "23 ['1. \"Total Participation\" (Households and Persons) excludes the counts of participation for Disaster Supplements and Replacements. The participation data reflected in those categories are a subset of the \"Regular Ongoing\" participation category.', '', '', '', '', '']\n",
      "24 [\"2. Due to the partial Federal government shutdown, most of the February 2019 SNAP benefits were issued early in the month of January 2019.  This was done to ensure SNAP recipients would receive their February 2019 benefits in a timely manner.  As a result, January 2019's benefits will show a significant increase over the previous month and February 2019's benefits will show significantly less than January 2019.\", '', '', '', '', '']\n"
     ]
    }
   ],
   "source": [
    "for i in range(7, sheet.nrows):\n",
    "    row = sheet.row_values(i)\n",
    "    \n",
    "    print (i,row)"
   ]
  },
  {
   "cell_type": "code",
   "execution_count": 9,
   "metadata": {},
   "outputs": [
    {
     "name": "stdout",
     "output_type": "stream",
     "text": [
      "{('US Summary', 'Apr 2019'): {'cost_by_household': 239.9069,\n",
      "                              'cost_by_individual': 120.8078,\n",
      "                              'household_participation': 18844455.0,\n",
      "                              'individual_participation': 37422372.0,\n",
      "                              'total_cost': 4520914707.0},\n",
      " ('US Summary', 'Aug 2019'): {'cost_by_household': 239.2304,\n",
      "                              'cost_by_individual': 121.0857,\n",
      "                              'household_participation': 19120797.0,\n",
      "                              'individual_participation': 37777171.0,\n",
      "                              'total_cost': 4574276320.0},\n",
      " ('US Summary', 'Dec 2018'): {'cost_by_household': 244.7311,\n",
      "                              'cost_by_individual': 122.5085,\n",
      "                              'household_participation': 19350569.0,\n",
      "                              'individual_participation': 38655988.0,\n",
      "                              'total_cost': 4735685303.0},\n",
      " ('US Summary', 'Feb 2019 /2'): {'cost_by_household': 167.5798,\n",
      "                                 'cost_by_individual': 83.4469,\n",
      "                                 'household_participation': 3695943.0,\n",
      "                                 'individual_participation': 7422273.0,\n",
      "                                 'total_cost': 619365505.0},\n",
      " ('US Summary', 'Jan 2019 /2'): {'cost_by_household': 430.995,\n",
      "                                 'cost_by_individual': 216.8175,\n",
      "                                 'household_participation': 20438289.0,\n",
      "                                 'individual_participation': 40627707.0,\n",
      "                                 'total_cost': 8808799831.0},\n",
      " ('US Summary', 'Jul 2019'): {'cost_by_household': 239.709,\n",
      "                              'cost_by_individual': 121.2921,\n",
      "                              'household_participation': 19026938.0,\n",
      "                              'individual_participation': 37602856.0,\n",
      "                              'total_cost': 4560929145.0},\n",
      " ('US Summary', 'Jun 2019'): {'cost_by_household': 239.9274,\n",
      "                              'cost_by_individual': 121.2864,\n",
      "                              'household_participation': 18973316.0,\n",
      "                              'individual_participation': 37532817.0,\n",
      "                              'total_cost': 4552219037.0},\n",
      " ('US Summary', 'Mar 2019'): {'cost_by_household': 235.7932,\n",
      "                              'cost_by_individual': 118.5865,\n",
      "                              'household_participation': 18942667.0,\n",
      "                              'individual_participation': 37664927.0,\n",
      "                              'total_cost': 4466551286.0},\n",
      " ('US Summary', 'May 2019'): {'cost_by_household': 241.2495,\n",
      "                              'cost_by_individual': 121.549,\n",
      "                              'household_participation': 18833780.0,\n",
      "                              'individual_participation': 37381135.0,\n",
      "                              'total_cost': 4543639171.0},\n",
      " ('US Summary', 'Nov 2018'): {'cost_by_household': 245.6204,\n",
      "                              'cost_by_individual': 122.6358,\n",
      "                              'household_participation': 19537752.0,\n",
      "                              'individual_participation': 39131093.0,\n",
      "                              'total_cost': 4798871042.0},\n",
      " ('US Summary', 'Oct 2018'): {'cost_by_household': 248.6736,\n",
      "                              'cost_by_individual': 123.9289,\n",
      "                              'household_participation': 19722719.0,\n",
      "                              'individual_participation': 39575279.0,\n",
      "                              'total_cost': 4904519214.0},\n",
      " ('US Summary', 'Sep 2019'): {'cost_by_household': 237.7207,\n",
      "                              'cost_by_individual': 120.5204,\n",
      "                              'household_participation': 19081687.0,\n",
      "                              'individual_participation': 37637717.0,\n",
      "                              'total_cost': 4536111652.0},\n",
      " ('US Summary', 'Total'): {'cost_by_household': 258.023675,\n",
      "                           'cost_by_individual': 129.82683333333333,\n",
      "                           'household_participation': 17964076.0,\n",
      "                           'individual_participation': 35702611.25,\n",
      "                           'total_cost': 55621882213.0}}\n"
     ]
    }
   ],
   "source": [
    "data = {}\n",
    "for i in range(7, sheet.nrows):#Start at 7 b/c data starts here\n",
    "    #RULES of this For Loop:\n",
    "    row = sheet.row_values(i)\n",
    "    \n",
    "    if i in [x for x in range(7, sheet.nrows, 15)]: # x for x in range creates list comprehnsion to pull out all states incremented to 15th row\n",
    "        #for the rows that have the state names\n",
    "        state = row[0] # take what's in 1st index and call it variable \"state\"\n",
    "        if state == 'Footnotes:':\n",
    "            break\n",
    "        else:\n",
    "            continue # if it's not the end (break) continue to next row\n",
    "    if i in [x for x in range(21, sheet.nrows, 15)]: # is this one of these iterations,if it is then skip it, if not, continue to next row? These are the blank lines\n",
    "        continue #go to the next row\n",
    "    #Read each ROW BY ROW\n",
    "    month = row[0]\n",
    "    household_participation = row[1]\n",
    "    individual_participation = row[2]\n",
    "    total_cost = row[3]\n",
    "    cost_by_household = row[4]\n",
    "    cost_by_individual = row[5]\n",
    "    \n",
    "    #create tupples to see how data comes out\n",
    "    #data[(stare, month)] = (household_participation, individual_participation, total_cost, cost_by_household, cost_by_individual)\n",
    "    \n",
    "    #create a dictionary out of the data instead of tupples so we can use the data\n",
    "    data[(state, month)] = {'household_participation': household_participation,\n",
    "                            'individual_participation': individual_participation,\n",
    "                            'total_cost': total_cost,\n",
    "                            'cost_by_household': cost_by_household,\n",
    "                            'cost_by_individual': cost_by_individual\n",
    "        } \n",
    "\n",
    "    \n",
    "pprint.pprint(data)"
   ]
  },
  {
   "cell_type": "code",
   "execution_count": null,
   "metadata": {},
   "outputs": [],
   "source": []
  },
  {
   "cell_type": "code",
   "execution_count": null,
   "metadata": {},
   "outputs": [],
   "source": []
  },
  {
   "cell_type": "code",
   "execution_count": null,
   "metadata": {},
   "outputs": [],
   "source": []
  },
  {
   "cell_type": "code",
   "execution_count": null,
   "metadata": {},
   "outputs": [],
   "source": []
  }
 ],
 "metadata": {
  "kernelspec": {
   "display_name": "Python 3",
   "language": "python",
   "name": "python3"
  },
  "language_info": {
   "codemirror_mode": {
    "name": "ipython",
    "version": 3
   },
   "file_extension": ".py",
   "mimetype": "text/x-python",
   "name": "python",
   "nbconvert_exporter": "python",
   "pygments_lexer": "ipython3",
   "version": "3.8.3"
  }
 },
 "nbformat": 4,
 "nbformat_minor": 4
}
