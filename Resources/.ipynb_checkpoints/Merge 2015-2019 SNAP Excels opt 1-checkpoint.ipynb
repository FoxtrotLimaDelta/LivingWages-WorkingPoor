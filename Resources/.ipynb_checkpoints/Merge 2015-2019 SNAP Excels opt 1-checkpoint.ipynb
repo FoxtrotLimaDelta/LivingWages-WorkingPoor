{
 "cells": [
  {
   "cell_type": "code",
   "execution_count": 1,
   "metadata": {},
   "outputs": [],
   "source": [
    "import os\n",
    "import pandas as pd\n",
    "cwd = os.path.abspath('') \n",
    "files = os.listdir(cwd) "
   ]
  },
  {
   "cell_type": "code",
   "execution_count": 2,
   "metadata": {},
   "outputs": [
    {
     "data": {
      "text/plain": [
       "'C:\\\\Users\\\\Denise\\\\Desktop\\\\LivingWagesRepo\\\\LivingWages-WorkingPoor\\\\Resources'"
      ]
     },
     "execution_count": 2,
     "metadata": {},
     "output_type": "execute_result"
    }
   ],
   "source": [
    "cwd"
   ]
  },
  {
   "cell_type": "code",
   "execution_count": 3,
   "metadata": {},
   "outputs": [
    {
     "data": {
      "text/plain": [
       "['.ipynb_checkpoints',\n",
       " 'DLF_pars.snap.ipynb',\n",
       " 'EPI Data Library - Medianaverage hourly wages Ed.csv',\n",
       " 'FY10.xls',\n",
       " 'FY11.xls',\n",
       " 'FY12.xls',\n",
       " 'FY13.xls',\n",
       " 'FY14.xls',\n",
       " 'FY15.xlsx',\n",
       " 'FY16.xlsx',\n",
       " 'FY17.xlsx',\n",
       " 'FY18.xlsx',\n",
       " 'FY19.xlsx',\n",
       " 'hlthaff.21.2.31.pdf',\n",
       " 'LivingWagesWorkingPoor.xlsx',\n",
       " 'Merging 2010-2014 SNAP Excels.ipynb',\n",
       " 'NHE MedicaidCHIP 1960-2019.csv',\n",
       " 'parse_snap.ipynb',\n",
       " 'parse_snap_complete.ipynb',\n",
       " 'parse_tanf_abrams.ipynb',\n",
       " 'parse_tanf_complete_abrams.ipynb',\n",
       " 'SNAP',\n",
       " 'SNAP_combined_2010-2014.xls',\n",
       " 'SNAP_combined_2015-2019.xls',\n",
       " 'TANF',\n",
       " 'tanf_complete_FLY.ipynb',\n",
       " 'Test 3 Merging Excels.ipynb',\n",
       " 'Test 4 Merging Excels.ipynb',\n",
       " 'US_A.CSV',\n",
       " 'US_B.CSV']"
      ]
     },
     "execution_count": 3,
     "metadata": {},
     "output_type": "execute_result"
    }
   ],
   "source": [
    "files"
   ]
  },
  {
   "cell_type": "code",
   "execution_count": 13,
   "metadata": {},
   "outputs": [],
   "source": [
    "df_total = pd.DataFrame()\n",
    "for file in files:  # loop through Excel files\n",
    "    if file.endswith('.xlsx'):\n",
    "        excel_file = pd.ExcelFile(file)\n",
    "        sheets = excel_file.sheet_names\n",
    "        for sheet in sheets: # loop through sheets inside an Excel file\n",
    "            df = excel_file.parse(sheet_name = sheet)\n",
    "            df_total = df_total.append(df)\n",
    "df_total.to_excel('SNAP_combined_2015-2019.xls')"
   ]
  },
  {
   "cell_type": "code",
   "execution_count": 14,
   "metadata": {},
   "outputs": [],
   "source": [
    "pd.set_option('display.max_rows', None)\n",
    "pd.set_option('display.max_columns', None)"
   ]
  },
  {
   "cell_type": "code",
   "execution_count": 15,
   "metadata": {},
   "outputs": [
    {
     "data": {
      "text/html": [
       "<div>\n",
       "<style scoped>\n",
       "    .dataframe tbody tr th:only-of-type {\n",
       "        vertical-align: middle;\n",
       "    }\n",
       "\n",
       "    .dataframe tbody tr th {\n",
       "        vertical-align: top;\n",
       "    }\n",
       "\n",
       "    .dataframe thead th {\n",
       "        text-align: right;\n",
       "    }\n",
       "</style>\n",
       "<table border=\"1\" class=\"dataframe\">\n",
       "  <thead>\n",
       "    <tr style=\"text-align: right;\">\n",
       "      <th></th>\n",
       "      <th>Source</th>\n",
       "      <th>Article Name</th>\n",
       "      <th>Article URL</th>\n",
       "      <th>Unnamed: 3</th>\n",
       "      <th>Unnamed: 4</th>\n",
       "    </tr>\n",
       "  </thead>\n",
       "  <tbody>\n",
       "    <tr>\n",
       "      <th>0</th>\n",
       "      <td>NaN</td>\n",
       "      <td>NaN</td>\n",
       "      <td>NaN</td>\n",
       "      <td>NaN</td>\n",
       "      <td>NaN</td>\n",
       "    </tr>\n",
       "    <tr>\n",
       "      <th>1</th>\n",
       "      <td>HealthAffairs</td>\n",
       "      <td>National Health Expenditure Projections, 2019–...</td>\n",
       "      <td>https://www.healthaffairs.org/doi/10.1377/hlth...</td>\n",
       "      <td>NaN</td>\n",
       "      <td>NaN</td>\n",
       "    </tr>\n",
       "    <tr>\n",
       "      <th>2</th>\n",
       "      <td>NaN</td>\n",
       "      <td>NaN</td>\n",
       "      <td>NaN</td>\n",
       "      <td>NaN</td>\n",
       "      <td>NaN</td>\n",
       "    </tr>\n",
       "    <tr>\n",
       "      <th>3</th>\n",
       "      <td>NaN</td>\n",
       "      <td>NaN</td>\n",
       "      <td>NaN</td>\n",
       "      <td>NaN</td>\n",
       "      <td>NaN</td>\n",
       "    </tr>\n",
       "    <tr>\n",
       "      <th>4</th>\n",
       "      <td>Guardian, The</td>\n",
       "      <td>Number of London's 'working poor' surges 70% i...</td>\n",
       "      <td>https://www.theguardian.com/society/2015/oct/2...</td>\n",
       "      <td>.</td>\n",
       "      <td>NaN</td>\n",
       "    </tr>\n",
       "  </tbody>\n",
       "</table>\n",
       "</div>"
      ],
      "text/plain": [
       "          Source                                       Article Name  \\\n",
       "0            NaN                                                NaN   \n",
       "1  HealthAffairs  National Health Expenditure Projections, 2019–...   \n",
       "2            NaN                                                NaN   \n",
       "3            NaN                                                NaN   \n",
       "4  Guardian, The  Number of London's 'working poor' surges 70% i...   \n",
       "\n",
       "                                         Article URL Unnamed: 3 Unnamed: 4  \n",
       "0                                                NaN        NaN        NaN  \n",
       "1  https://www.healthaffairs.org/doi/10.1377/hlth...        NaN        NaN  \n",
       "2                                                NaN        NaN        NaN  \n",
       "3                                                NaN        NaN        NaN  \n",
       "4  https://www.theguardian.com/society/2015/oct/2...          .        NaN  "
      ]
     },
     "execution_count": 15,
     "metadata": {},
     "output_type": "execute_result"
    }
   ],
   "source": [
    "df.head()"
   ]
  }
 ],
 "metadata": {
  "kernelspec": {
   "display_name": "Python 3",
   "language": "python",
   "name": "python3"
  },
  "language_info": {
   "codemirror_mode": {
    "name": "ipython",
    "version": 3
   },
   "file_extension": ".py",
   "mimetype": "text/x-python",
   "name": "python",
   "nbconvert_exporter": "python",
   "pygments_lexer": "ipython3",
   "version": "3.8.3"
  }
 },
 "nbformat": 4,
 "nbformat_minor": 4
}
