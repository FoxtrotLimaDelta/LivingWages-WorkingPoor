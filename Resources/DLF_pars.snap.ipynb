{
 "cells": [
  {
   "cell_type": "code",
   "execution_count": 1,
   "metadata": {},
   "outputs": [],
   "source": [
    "# Dependencies\n",
    "import xlrd\n",
    "import pandas as pd\n",
    "import pprint"
   ]
  },
  {
   "cell_type": "code",
   "execution_count": 2,
   "metadata": {},
   "outputs": [
    {
     "name": "stdout",
     "output_type": "stream",
     "text": [
      "['__class__', '__delattr__', '__dict__', '__dir__', '__doc__', '__eq__', '__format__', '__ge__', '__getattribute__', '__gt__', '__hash__', '__init__', '__init_subclass__', '__le__', '__lt__', '__module__', '__ne__', '__new__', '__reduce__', '__reduce_ex__', '__repr__', '__setattr__', '__sizeof__', '__str__', '__subclasshook__', '__weakref__', '_cell_attr_to_xfx', '_cell_types', '_cell_values', '_cell_xf_indexes', '_dimncols', '_dimnrows', '_first_full_rowx', '_ixfe', '_maxdatacolx', '_maxdatarowx', '_position', '_repr_these', '_xf_index_stats', '_xf_index_to_xl_type_map', 'automatic_grid_line_colour', 'bf', 'biff_version', 'book', 'bt', 'cached_normal_view_mag_factor', 'cached_page_break_preview_mag_factor', 'cell', 'cell_note_map', 'cell_type', 'cell_value', 'cell_xf_index', 'col', 'col_label_ranges', 'col_slice', 'col_types', 'col_values', 'colinfo_map', 'columns_from_right_to_left', 'computed_column_width', 'cooked_normal_view_mag_factor', 'cooked_page_break_preview_mag_factor', 'default_additional_space_above', 'default_additional_space_below', 'default_row_height', 'default_row_height_mismatch', 'default_row_hidden', 'defcolwidth', 'dump', 'fake_XF_from_BIFF20_cell_attr', 'first_visible_colx', 'first_visible_rowx', 'fixed_BIFF2_xfindex', 'formatting_info', 'gcw', 'get_rows', 'gridline_colour_index', 'gridline_colour_rgb', 'handle_feat11', 'handle_hlink', 'handle_msodrawingetc', 'handle_note', 'handle_obj', 'handle_quicktip', 'handle_txo', 'has_pane_record', 'horizontal_page_breaks', 'horz_split_first_visible', 'horz_split_pos', 'hyperlink_list', 'hyperlink_map', 'insert_new_BIFF20_xf', 'logfile', 'merged_cells', 'name', 'ncols', 'nrows', 'number', 'panes_are_frozen', 'put_cell', 'put_cell_ragged', 'put_cell_unragged', 'ragged_rows', 'read', 'remove_splits_if_pane_freeze_is_removed', 'req_fmt_info', 'rich_text_runlist_map', 'row', 'row_label_ranges', 'row_len', 'row_slice', 'row_types', 'row_values', 'rowinfo_map', 'scl_mag_factor', 'sheet_selected', 'sheet_visible', 'show_formulas', 'show_grid_lines', 'show_in_page_break_preview', 'show_outline_symbols', 'show_sheet_headers', 'show_zero_values', 'split_active_pane', 'standardwidth', 'string_record_contents', 'tidy_dimensions', 'update_cooked_mag_factors', 'utter_max_cols', 'utter_max_rows', 'verbosity', 'vert_split_first_visible', 'vert_split_pos', 'vertical_page_breaks', 'visibility']\n"
     ]
    }
   ],
   "source": [
    "#Read in data from unstructured Excel file\n",
    "book = xlrd.open_workbook('SNAP/FY19.xls')\n",
    "sheet = book.sheet_by_name('NERO')\n",
    "\n",
    "print (dir(sheet))"
   ]
  },
  {
   "cell_type": "code",
   "execution_count": 3,
   "metadata": {},
   "outputs": [
    {
     "name": "stdout",
     "output_type": "stream",
     "text": [
      "145\n"
     ]
    }
   ],
   "source": [
    "#Counts # of rows in your data\n",
    "print (sheet.nrows)"
   ]
  },
  {
   "cell_type": "code",
   "execution_count": 4,
   "metadata": {},
   "outputs": [],
   "source": [
    "# # Shows the names of all of the sheets in the Excel Workbook\n",
    "\n",
    "# for sheet in book.sheets():\n",
    "#     print (sheet.name)"
   ]
  },
  {
   "cell_type": "code",
   "execution_count": 5,
   "metadata": {},
   "outputs": [],
   "source": [
    "# data_test = {\n",
    "#         ('Connecticut', 'October 2018'): {\n",
    "#             'household_participation': 1,\n",
    "#             'individual_participation': 1,\n",
    "#             'total_cost' : 1,\n",
    "#             'cost_by_household' : 1,\n",
    "#             'cost_by_individual': 1,\n",
    "#         },\n",
    "#         ('Connecticut', 'November 2018'): {\n",
    "#             'household_participation': 1,\n",
    "#             'individual_participation': 1,\n",
    "#             'total_cost' : 1,\n",
    "#             'cost_by_household' : 1,\n",
    "#             'cost_by_individual': 1,\n",
    "#             }\n",
    "#         }"
   ]
  },
  {
   "cell_type": "code",
   "execution_count": 7,
   "metadata": {},
   "outputs": [],
   "source": [
    "#pd.DataFrame.from_dict(data_test, orient = 'index')"
   ]
  },
  {
   "cell_type": "code",
   "execution_count": 8,
   "metadata": {},
   "outputs": [
    {
     "name": "stdout",
     "output_type": "stream",
     "text": [
      "7 ['Connecticut', '', '', '', '', '']\n",
      "8 ['Oct 2018', 217619.0, 376447.0, 50630409.0, 232.6562, 134.4955]\n",
      "9 ['Nov 2018', 216134.0, 374230.0, 50141937.0, 231.9947, 133.987]\n",
      "10 ['Dec 2018', 215283.0, 372079.0, 49717875.0, 230.9419, 133.6218]\n",
      "11 ['Jan 2019 /2', 215132.0, 371393.0, 96027525.0, 446.3656, 258.5604]\n",
      "12 ['Feb 2019 /2', 19891.0, 39270.0, 1894161.0, 95.227, 48.2343]\n",
      "13 ['Mar 2019', 213248.0, 366453.0, 48298979.0, 226.4921, 131.8013]\n",
      "14 ['Apr 2019', 212331.0, 364182.0, 47900307.0, 225.5926, 131.5285]\n",
      "15 ['May 2019', 212602.0, 364456.0, 47981032.0, 225.6848, 131.6511]\n",
      "16 ['Jun 2019', 212355.0, 363578.0, 47921516.0, 225.667, 131.8053]\n",
      "17 ['Jul 2019', 212611.0, 364092.0, 48021204.0, 225.8642, 131.893]\n",
      "18 ['Aug 2019', 213062.0, 364704.0, 48102772.0, 225.7689, 131.8954]\n",
      "19 ['Sep 2019', 212861.0, 364474.0, 48080883.0, 225.8792, 131.9186]\n",
      "20 ['Total', 197760.75, 340446.5, 584718600.0, 246.39140833333335, 143.125425]\n",
      "21 ['', '', '', '', '', '']\n",
      "22 ['Maine', '', '', '', '', '']\n",
      "23 ['Oct 2018', 86368.0, 159320.0, 17383023.0, 201.2669, 109.1076]\n",
      "24 ['Nov 2018', 85990.0, 158401.0, 17238325.0, 200.4689, 108.8271]\n",
      "25 ['Dec 2018', 85243.0, 157026.0, 17087989.0, 200.4621, 108.8227]\n",
      "26 ['Jan 2019 /2', 85308.0, 157160.0, 32575311.0, 381.8553, 207.2748]\n",
      "27 ['Feb 2019 /2', 5313.0, 10078.0, 1148278.0, 216.1261, 113.9391]\n",
      "28 ['Mar 2019', 84826.0, 155564.0, 16803461.0, 198.0933, 108.0164]\n",
      "29 ['Apr 2019', 85139.0, 155769.0, 16954141.0, 199.1348, 108.8416]\n",
      "30 ['May 2019', 85445.0, 156166.0, 17046903.0, 199.5073, 109.1589]\n",
      "31 ['Jun 2019', 85564.0, 156232.0, 16926406.0, 197.8216, 108.3415]\n",
      "32 ['Jul 2019', 85292.0, 155749.0, 16927388.0, 198.464, 108.6838]\n",
      "33 ['Aug 2019', 85862.0, 156079.0, 16888414.0, 196.6925, 108.2043]\n",
      "34 ['Sep 2019', 85996.0, 155648.0, 16650888.0, 193.624, 106.9778]\n",
      "35 ['Total', 78862.1667, 144432.6667, 203630527.0, 215.17555833333333, 117.48873333333333]\n",
      "36 ['', '', '', '', '', '']\n",
      "37 ['Massachusetts', '', '', '', '', '']\n",
      "38 ['Oct 2018', 451379.0, 768374.0, 97290212.0, 215.54, 126.6183]\n",
      "39 ['Nov 2018', 451033.0, 767420.0, 96374866.0, 213.6759, 125.5829]\n",
      "40 ['Dec 2018', 448876.0, 762672.0, 95654353.0, 213.0975, 125.42]\n",
      "41 ['Jan 2019 /2', 447729.0, 759254.0, 182023690.0, 406.5488, 239.7402]\n",
      "42 ['Feb 2019 /2', 49078.0, 83104.0, 8982276.0, 183.0204, 108.0848]\n",
      "43 ['Mar 2019', 446236.0, 754623.0, 92767066.0, 207.8879, 122.9317]\n",
      "44 ['Apr 2019', 445664.0, 752757.0, 92116494.0, 206.6949, 122.3722]\n",
      "45 ['May 2019', 446143.0, 752862.0, 92548407.0, 207.4411, 122.9288]\n",
      "46 ['Jun 2019', 447612.0, 754843.0, 92589386.0, 206.8519, 122.6605]\n",
      "47 ['Jul 2019', 450879.0, 759398.0, 93155637.0, 206.609, 122.6704]\n",
      "48 ['Aug 2019', 453658.0, 762684.0, 94138216.0, 207.5092, 123.4302]\n",
      "49 ['Sep 2019', 455252.0, 764203.0, 93507863.0, 205.398, 122.36]\n",
      "50 ['Total', 416128.25, 703516.1667, 1131148466.0, 226.52240833333335, 133.9875]\n",
      "51 ['', '', '', '', '', '']\n",
      "52 ['New Hampshire', '', '', '', '', '']\n",
      "53 ['Oct 2018', 40944.0, 79727.0, 8122185.0, 198.373, 101.875]\n",
      "54 ['Nov 2018', 40803.0, 79137.0, 8015584.0, 196.4459, 101.2874]\n",
      "55 ['Dec 2018', 40376.0, 78053.0, 7960721.0, 197.1647, 101.9912]\n",
      "56 ['Jan 2019 /2', 40708.0, 78653.0, 15326545.0, 376.4996, 194.8628]\n",
      "57 ['Feb 2019 /2', 2880.0, 5614.0, 494774.0, 171.7965, 88.1322]\n",
      "58 ['Mar 2019', 39972.0, 76762.0, 7758137.0, 194.0893, 101.0674]\n",
      "59 ['Apr 2019', 39760.0, 76113.0, 7731320.0, 194.4497, 101.5769]\n",
      "60 ['May 2019', 39479.0, 75411.0, 7636791.0, 193.4393, 101.2689]\n",
      "61 ['Jun 2019', 39015.0, 74354.0, 7516813.0, 192.6647, 101.0949]\n",
      "62 ['Jul 2019', 38754.0, 73837.0, 7435786.0, 191.8714, 100.7054]\n",
      "63 ['Aug 2019', 38777.0, 73775.0, 7454121.0, 192.2305, 101.0386]\n",
      "64 ['Sep 2019', 38747.0, 73506.0, 7436414.0, 191.9223, 101.1674]\n",
      "65 ['Total', 36684.5833, 70411.8333, 92889191.0, 211.00869166666666, 109.93558333333333]\n",
      "66 ['', '', '', '', '', '']\n",
      "67 ['New York', '', '', '', '', '']\n",
      "68 ['Oct 2018', 1536243.0, 2727462.0, 373759666.0, 243.2946, 137.0357]\n",
      "69 ['Nov 2018', 1527245.0, 2706697.0, 369873312.0, 242.1834, 136.6512]\n",
      "70 ['Dec 2018', 1527054.0, 2702602.0, 369977403.0, 242.2818, 136.8967]\n",
      "71 ['Jan 2019 /2', 1531428.0, 2705107.0, 703444905.0, 459.3392, 260.0433]\n",
      "72 ['Feb 2019 /2', 1526845.0, 2690578.0, 26916871.0, 17.6291, 10.0041]\n",
      "73 ['Mar 2019', 1522410.0, 2681717.0, 362010122.0, 237.7875, 134.9919]\n",
      "74 ['Apr 2019', 1514547.0, 2662511.0, 359045704.0, 237.0647, 134.8523]\n",
      "75 ['May 2019', 1505591.0, 2642450.0, 358120510.0, 237.8604, 135.5259]\n",
      "76 ['Jun 2019', 1496844.0, 2623177.0, 355193679.0, 237.2951, 135.4059]\n",
      "77 ['Jul 2019', 1492844.0, 2613091.0, 354891169.0, 237.7282, 135.8128]\n",
      "78 ['Aug 2019', 1486402.0, 2598826.0, 354587072.0, 238.554, 136.4413]\n",
      "79 ['Sep 2019', 1481195.0, 2586186.0, 351797553.0, 237.5093, 136.0295]\n",
      "80 ['Total', 1512387.3333, 2661700.3333, 4339617966.0, 239.11521666666667, 135.86609166666668]\n",
      "81 ['', '', '', '', '', '']\n",
      "82 ['Rhode Island', '', '', '', '', '']\n",
      "83 ['Oct 2018', 93735.0, 157948.0, 21593908.0, 230.3719, 136.7153]\n",
      "84 ['Nov 2018', 94543.0, 158750.0, 20917736.0, 221.251, 131.7653]\n",
      "85 ['Dec 2018', 93709.0, 157079.0, 21488652.0, 229.3126, 136.8016]\n",
      "86 ['Jan 2019 /2', 92394.0, 155099.0, 39037563.0, 422.5119, 251.6945]\n",
      "87 ['Feb 2019 /2', 9771.0, 20281.0, 1894746.0, 193.9153, 93.4247]\n",
      "88 ['Mar 2019', 90976.0, 151822.0, 20259048.0, 222.6856, 133.4395]\n",
      "89 ['Apr 2019', 90212.0, 150288.0, 20063409.0, 222.4029, 133.4997]\n",
      "90 ['May 2019', 90057.0, 149735.0, 19946267.0, 221.4849, 133.2105]\n",
      "91 ['Jun 2019', 89668.0, 148929.0, 19785946.0, 220.6578, 132.8549]\n",
      "92 ['Jul 2019', 89808.0, 148914.0, 19826007.0, 220.7599, 133.1373]\n",
      "93 ['Aug 2019', 89278.0, 148087.0, 19723052.0, 220.9173, 133.1856]\n",
      "94 ['Sep 2019', 89192.0, 147857.0, 19687230.0, 220.7287, 133.1505]\n",
      "95 ['Total', 84445.25, 141232.4167, 244223564.0, 241.0078, 144.10263333333333]\n",
      "96 ['', '', '', '', '', '']\n",
      "97 ['Vermont', '', '', '', '', '']\n",
      "98 ['Oct 2018', 40158.0, 71176.0, 8635017.0, 215.0261, 121.3192]\n",
      "99 ['Nov 2018', 40223.0, 71400.0, 8615248.0, 214.1871, 120.6617]\n",
      "100 ['Dec 2018', 40295.0, 71494.0, 8653570.0, 214.7554, 121.0391]\n",
      "101 ['Jan 2019 /2', 62010.0, 119143.0, 16060274.0, 258.9949, 134.7983]\n",
      "102 ['Feb 2019 /2', 5609.0, 9920.0, 1058444.0, 188.7046, 106.698]\n",
      "103 ['Mar 2019', 39748.0, 69854.0, 8424871.0, 211.9571, 120.6069]\n",
      "104 ['Apr 2019', 39351.0, 68932.0, 8216475.0, 208.7996, 119.1968]\n",
      "105 ['May 2019', 39081.0, 68257.0, 8244917.0, 210.97, 120.7923]\n",
      "106 ['Jun 2019', 38836.0, 67606.0, 8171043.0, 210.3987, 120.8627]\n",
      "107 ['Jul 2019', 38594.0, 67136.0, 8045744.0, 208.4714, 119.8425]\n",
      "108 ['Aug 2019', 38592.0, 67195.0, 8112482.0, 210.2115, 120.7304]\n",
      "109 ['Sep 2019', 38579.0, 67209.0, 8010589.0, 207.6412, 119.1892]\n",
      "110 ['Total', 38423.0, 68276.8333, 100248674.0, 217.42331666666666, 122.35565]\n",
      "111 ['', '', '', '', '', '']\n",
      "112 ['Virgin Islands', '', '', '', '', '']\n",
      "113 ['Oct 2018', 14166.0, 28683.0, 4936176.0, 348.4524, 172.0941]\n",
      "114 ['Nov 2018', 13384.0, 27069.0, 4270501.0, 319.0751, 157.7635]\n",
      "115 ['Dec 2018', 12603.0, 25662.0, 4040818.0, 320.6235, 157.4631]\n",
      "116 ['Jan 2019 /2', 11964.0, 24527.0, 7539447.0, 630.1778, 307.3938]\n",
      "117 ['Feb 2019 /2', 822.0, 1726.0, 193425.0, 235.3102, 112.0655]\n",
      "118 ['Mar 2019', 10450.0, 21387.0, 3553182.0, 340.0174, 166.1375]\n",
      "119 ['Apr 2019', 9862.0, 20381.0, 3307427.0, 335.3708, 162.2799]\n",
      "120 ['May 2019', 10118.0, 20934.0, 3363794.0, 332.4564, 160.6857]\n",
      "121 ['Jun 2019', 10194.0, 21099.0, 3398399.0, 333.3725, 161.0692]\n",
      "122 ['Jul 2019', 10339.0, 21370.0, 3449351.0, 333.6252, 161.4109]\n",
      "123 ['Aug 2019', 10395.0, 21511.0, 3478700.0, 334.6513, 161.7173]\n",
      "124 ['Sep 2019', 10439.0, 21623.0, 3508023.0, 336.0497, 162.2357]\n",
      "125 ['Total', 10394.6667, 21331.0, 45039243.0, 361.0765333333333, 175.95379166666666]\n",
      "126 ['', '', '', '', '', '']\n",
      "127 ['NERO', '', '', '', '', '']\n",
      "128 ['Oct 2018', 2480612.0, 4369137.0, 582350596.0, 234.7609, 133.2873]\n",
      "129 ['Nov 2018', 2469355.0, 4343104.0, 575447509.0, 233.0356, 132.4968]\n",
      "130 ['Dec 2018', 2463439.0, 4326667.0, 574581381.0, 233.2436, 132.8]\n",
      "131 ['Jan 2019 /2', 2486673.0, 4370336.0, 1092035260.0, 439.1552, 249.8744]\n",
      "132 ['Feb 2019 /2', 1620209.0, 2860571.0, 42582975.0, 26.2824, 14.8862]\n",
      "133 ['Mar 2019', 2447866.0, 4278182.0, 559874866.0, 228.7196, 130.8675]\n",
      "134 ['Apr 2019', 2436866.0, 4250933.0, 555335277.0, 227.8891, 130.6384]\n",
      "135 ['May 2019', 2428516.0, 4230271.0, 554888621.0, 228.4888, 131.1709]\n",
      "136 ['Jun 2019', 2420088.0, 4209818.0, 551503188.0, 227.8856, 131.004]\n",
      "137 ['Jul 2019', 2419121.0, 4203587.0, 551752286.0, 228.0797, 131.2575]\n",
      "138 ['Aug 2019', 2416026.0, 4192861.0, 552484829.0, 228.675, 131.768]\n",
      "139 ['Sep 2019', 2412261.0, 4180706.0, 548679443.0, 227.4544, 131.2409]\n",
      "140 ['Total', 2375086.0, 4151347.75, 6741516231.0, 236.53586666666666, 135.32786666666667]\n",
      "141 ['', '', '', '', '', '']\n",
      "142 ['Footnotes:', '', '', '', '', '']\n",
      "143 ['1. \"Total Participation\" (Households and Persons) excludes the counts of participation for Disaster Supplements and Replacements. The participation data reflected in those categories are a subset of the \"Regular Ongoing\" participation category.', '', '', '', '', '']\n",
      "144 [\"2. Due to the partial Federal government shutdown, most of the February 2019 SNAP benefits were issued early in the month of January 2019.  This was done to ensure SNAP recipients would receive their February 2019 benefits in a timely manner.  As a result, January 2019's benefits will show a significant increase over the previous month and February 2019's benefits will show significantly less than January 2019.\", '', '', '', '', '']\n"
     ]
    }
   ],
   "source": [
    "for i in range(7, sheet.nrows):\n",
    "    row = sheet.row_values(i)\n",
    "    \n",
    "    print (i,row)"
   ]
  },
  {
   "cell_type": "code",
   "execution_count": null,
   "metadata": {},
   "outputs": [],
   "source": []
  },
  {
   "cell_type": "code",
   "execution_count": 15,
   "metadata": {},
   "outputs": [
    {
     "ename": "SyntaxError",
     "evalue": "invalid syntax (<ipython-input-15-1f2631afcea0>, line 22)",
     "output_type": "error",
     "traceback": [
      "\u001b[1;36m  File \u001b[1;32m\"<ipython-input-15-1f2631afcea0>\"\u001b[1;36m, line \u001b[1;32m22\u001b[0m\n\u001b[1;33m    print range(sheet.row_values(i))\u001b[0m\n\u001b[1;37m          ^\u001b[0m\n\u001b[1;31mSyntaxError\u001b[0m\u001b[1;31m:\u001b[0m invalid syntax\n"
     ]
    }
   ],
   "source": [
    "data = {}\n",
    "for i in range(7, sheet.nrows):#Start at 7 b/c data starts here\n",
    "    #RULES:\n",
    "    row = sheet.row_values(i)\n",
    "    if i in [x for x in range(7, sheet.nrows, 15)]:\n",
    "        #for the rows that have the state names\n",
    "        state = row[0]\n",
    "        if state == 'Footnotes:':\n",
    "            break\n",
    "        else:\n",
    "            continue\n",
    "    if i in [x for x in range(21, sheet.nrows, 15)]:\n",
    "        continue\n",
    "    #ROW BY ROW\n",
    "    month = row[0]\n",
    "    household_participation = row[1]\n",
    "    individual_participation = row[2]\n",
    "    total_cost = [3],\n",
    "    cost_by_household = [4],\n",
    "    cost_by_individual = [5],\n"
   ]
  }
 ],
 "metadata": {
  "kernelspec": {
   "display_name": "Python 3",
   "language": "python",
   "name": "python3"
  },
  "language_info": {
   "codemirror_mode": {
    "name": "ipython",
    "version": 3
   },
   "file_extension": ".py",
   "mimetype": "text/x-python",
   "name": "python",
   "nbconvert_exporter": "python",
   "pygments_lexer": "ipython3",
   "version": "3.8.3"
  }
 },
 "nbformat": 4,
 "nbformat_minor": 4
}
