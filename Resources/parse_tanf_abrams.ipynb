{
 "cells": [
  {
   "cell_type": "code",
   "execution_count": 1,
   "metadata": {},
   "outputs": [],
   "source": [
    "import xlrd\n",
    "import pandas as pd\n",
    "import pprint"
   ]
  },
  {
   "cell_type": "code",
   "execution_count": 4,
   "metadata": {},
   "outputs": [],
   "source": [
    "book = xlrd.open_workbook('TANF/2-25-20tanf.xlsx')"
   ]
  },
  {
   "cell_type": "code",
   "execution_count": 5,
   "metadata": {},
   "outputs": [
    {
     "name": "stdout",
     "output_type": "stream",
     "text": [
      "Read Me\n",
      "2018 State Pie Graph\n",
      "2018 Category Spending\n",
      "Category Spending Over Time\n",
      "Sheet1\n",
      "Basic Assistance\n",
      "Work Activities\n",
      "Work Supports & Supportive Serv\n",
      "Child Care\n",
      "Administration & Systems\n",
      "Pre-K\n",
      "Tax Credits\n",
      "Child Welfare\n",
      "Other\n",
      "SFAG & MOE\n"
     ]
    }
   ],
   "source": [
    "for sheet in book.sheets():\n",
    "    print (sheet.name)"
   ]
  },
  {
   "cell_type": "code",
   "execution_count": null,
   "metadata": {},
   "outputs": [],
   "source": [
    "sheet = book.sheet_by_name('2018 C')"
   ]
  }
 ],
 "metadata": {
  "kernelspec": {
   "display_name": "Python 3",
   "language": "python",
   "name": "python3"
  },
  "language_info": {
   "codemirror_mode": {
    "name": "ipython",
    "version": 3
   },
   "file_extension": ".py",
   "mimetype": "text/x-python",
   "name": "python",
   "nbconvert_exporter": "python",
   "pygments_lexer": "ipython3",
   "version": "3.8.3"
  }
 },
 "nbformat": 4,
 "nbformat_minor": 4
}
